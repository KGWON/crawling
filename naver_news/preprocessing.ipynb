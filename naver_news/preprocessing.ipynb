{
 "cells": [
  {
   "cell_type": "code",
   "execution_count": 1,
   "metadata": {
    "ExecuteTime": {
     "end_time": "2019-06-18T04:02:27.982664Z",
     "start_time": "2019-06-18T04:02:27.874158Z"
    }
   },
   "outputs": [],
   "source": [
    "import pandas as pd\n",
    "import numpy as np\n",
    "import os\n",
    "import re"
   ]
  },
  {
   "cell_type": "code",
   "execution_count": 2,
   "metadata": {
    "ExecuteTime": {
     "end_time": "2019-06-18T04:02:28.533387Z",
     "start_time": "2019-06-18T04:02:28.526532Z"
    }
   },
   "outputs": [
    {
     "name": "stdout",
     "output_type": "stream",
     "text": [
      "['naver_news_택시 풀러스.xlsx', 'naver_news_택시 승차거부.xlsx', 'naver_news_택시 불만.xlsx', 'naver_news_택시 요금인상.xlsx', 'naver_news_택시 카풀.xlsx', 'naver_news_모빌리티플랫폼.xlsx', 'naver_news_택시 분신.xlsx', 'naver_news_택시 타다.xlsx', 'naver_news_타다 이재웅.xlsx', 'naver_news_택시 집회.xlsx', 'naver_news_카카오 카풀.xlsx', 'naver_news_택시 시위.xlsx']\n"
     ]
    }
   ],
   "source": [
    "# 각 검색어 별 최종 결과인 데이터프레임만 가져오기 위해서 df_list를 선언한다.\n",
    "df_list = [ele for ele in os.listdir() if bool(re.search(\"^naver_news_[가-힣]+\\s*[가-힣]+\\.xlsx$\", ele))]\n",
    "print(df_list)"
   ]
  },
  {
   "cell_type": "code",
   "execution_count": 3,
   "metadata": {
    "ExecuteTime": {
     "end_time": "2019-06-18T04:02:32.504597Z",
     "start_time": "2019-06-18T04:02:29.493677Z"
    }
   },
   "outputs": [],
   "source": [
    "# df_list에 있는 파일들을 하나로 합친다.\n",
    "df = pd.DataFrame()\n",
    "for df_name in df_list:\n",
    "    df = pd.concat([df, pd.read_excel(df_name)])"
   ]
  },
  {
   "cell_type": "code",
   "execution_count": 4,
   "metadata": {
    "ExecuteTime": {
     "end_time": "2019-06-18T04:02:38.079791Z",
     "start_time": "2019-06-18T04:02:32.559067Z"
    }
   },
   "outputs": [],
   "source": [
    "# content가 NaN(기사 내용이 없음)일 경우는 삭제한다.\n",
    "mask = df['contents'].notnull()\n",
    "df = df.loc[mask, :]\n",
    "\n",
    "mask = df['contents'] != 0\n",
    "df = df.loc[mask, :]\n",
    "\n",
    "# '이메일 주소'를 삭제한다.\n",
    "df['contents'] = df['contents'].str.replace(\"(\\w+@\\w+((\\w+\\.\\w+\\.\\w+)|(\\w+\\.\\w+)))\", \"\")\n",
    "\n",
    "# \"... 기자\"를 삭제한다.\n",
    "df['contents'] = df['contents'].str.replace(\"([가-힣]+\\s*기자)\", \"\")\n",
    "\n",
    "# 'http:' 형태의 URL 문자열을 삭제한다.\n",
    "df['contents'] = df['contents'].str.replace(\"(https?:\\/\\/(www\\.)?[-a-zA-Z0-9@:%._\\+~#=]{2,256}\\.[a-z]{2,6}([-a-zA-Z0-9@:%_\\+.~#?&//=]*))\", \"\")\n",
    "\n",
    "# 띄어쓰기가 2회 이상 되었을 경우에는 띄어쓰기 1회로 변경한다.\n",
    "df['contents'] = df['contents'].str.replace(\"(\\s{2,})\", \" \")"
   ]
  },
  {
   "cell_type": "code",
   "execution_count": 5,
   "metadata": {
    "ExecuteTime": {
     "end_time": "2019-06-18T04:02:49.184028Z",
     "start_time": "2019-06-18T04:02:42.904883Z"
    }
   },
   "outputs": [],
   "source": [
    "# 최종 결과를 저장한다.\n",
    "df.to_excel(\"naver_crawling_result.xlsx\")"
   ]
  }
 ],
 "metadata": {
  "hide_input": false,
  "kernelspec": {
   "display_name": "Python 3",
   "language": "python",
   "name": "python3"
  },
  "language_info": {
   "codemirror_mode": {
    "name": "ipython",
    "version": 3
   },
   "file_extension": ".py",
   "mimetype": "text/x-python",
   "name": "python",
   "nbconvert_exporter": "python",
   "pygments_lexer": "ipython3",
   "version": "3.7.1"
  },
  "toc": {
   "base_numbering": 1,
   "nav_menu": {},
   "number_sections": true,
   "sideBar": true,
   "skip_h1_title": false,
   "title_cell": "Table of Contents",
   "title_sidebar": "Contents",
   "toc_cell": false,
   "toc_position": {},
   "toc_section_display": true,
   "toc_window_display": false
  },
  "varInspector": {
   "cols": {
    "lenName": 16,
    "lenType": 16,
    "lenVar": 40
   },
   "kernels_config": {
    "python": {
     "delete_cmd_postfix": "",
     "delete_cmd_prefix": "del ",
     "library": "var_list.py",
     "varRefreshCmd": "print(var_dic_list())"
    },
    "r": {
     "delete_cmd_postfix": ") ",
     "delete_cmd_prefix": "rm(",
     "library": "var_list.r",
     "varRefreshCmd": "cat(var_dic_list()) "
    }
   },
   "types_to_exclude": [
    "module",
    "function",
    "builtin_function_or_method",
    "instance",
    "_Feature"
   ],
   "window_display": false
  }
 },
 "nbformat": 4,
 "nbformat_minor": 2
}
