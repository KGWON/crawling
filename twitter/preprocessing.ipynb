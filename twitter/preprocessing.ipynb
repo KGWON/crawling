{
 "cells": [
  {
   "cell_type": "code",
   "execution_count": 1,
   "metadata": {
    "ExecuteTime": {
     "end_time": "2019-06-20T11:19:27.678611Z",
     "start_time": "2019-06-20T11:19:27.542789Z"
    }
   },
   "outputs": [],
   "source": [
    "import pandas as pd\n",
    "import numpy as np\n",
    "import os\n",
    "import re\n",
    "import datetime"
   ]
  },
  {
   "cell_type": "code",
   "execution_count": 2,
   "metadata": {
    "ExecuteTime": {
     "end_time": "2019-06-20T11:19:28.132554Z",
     "start_time": "2019-06-20T11:19:28.126522Z"
    }
   },
   "outputs": [
    {
     "name": "stdout",
     "output_type": "stream",
     "text": [
      "['twitter_택시 타다.xlsx', 'twitter_모빌리티플랫폼.xlsx']\n"
     ]
    }
   ],
   "source": [
    "# 각 검색어 별 최종 결과인 데이터프레임만 가져오기 위해서 df_list를 선언한다.\n",
    "df_list = [ele for ele in os.listdir() if bool(re.search(\"^twitter_[가-힣]+\\s*[가-힣]+\\.xlsx$\", ele))]\n",
    "print(df_list)"
   ]
  },
  {
   "cell_type": "code",
   "execution_count": 3,
   "metadata": {
    "ExecuteTime": {
     "end_time": "2019-06-20T11:19:28.761339Z",
     "start_time": "2019-06-20T11:19:28.509988Z"
    }
   },
   "outputs": [],
   "source": [
    "# df_list에 있는 파일들을 하나로 합친다.\n",
    "df = pd.DataFrame()\n",
    "for df_name in df_list:\n",
    "    df = pd.concat([df, pd.read_excel(df_name)])"
   ]
  },
  {
   "cell_type": "code",
   "execution_count": 4,
   "metadata": {
    "ExecuteTime": {
     "end_time": "2019-06-20T11:19:29.285628Z",
     "start_time": "2019-06-20T11:19:29.162641Z"
    }
   },
   "outputs": [],
   "source": [
    "# 줄바꿈('\\n') 문자를 띄어쓰기로 바꾼다.\n",
    "df['contents'] = df['contents'].str.replace(\"(\\n)\", \" \")\n",
    "\n",
    "# content가 NaN(기사 내용이 없음)일 경우는 삭제한다.\n",
    "mask = df['contents'].notnull()\n",
    "df = df.loc[mask, :]\n",
    "\n",
    "# '@아이디' 형태의 태그를 삭제한다.\n",
    "df['contents'] = df['contents'].str.replace(\"(@\\w+)\", \"\")\n",
    "\n",
    "# '#문자열' 형태의 해시태그는 삭제한다.\n",
    "df['contents'] = df['contents'].str.replace(\"#[가-힣|a-z|A-Z|0-9]+\", \"\")\n",
    "\n",
    "# 'http:' 형태의 URL 문자열을 삭제한다.\n",
    "df['contents'] = df['contents'].str.replace(\"(https?:\\/\\/(www\\.)?[-a-zA-Z0-9@:%._\\+~#=]{2,256}\\.[a-z]{2,6}([-a-zA-Z0-9@:%_\\+.~#?&//=]*))\", \"\")\n",
    "\n",
    "# '이메일 주소'를 삭제한다.\n",
    "df['contents'] = df['contents'].str.replace(\"(\\w+@\\w+((\\w+\\.\\w+\\.\\w+)|(\\w+\\.\\w+)))\", \"\")\n",
    "\n",
    "# 띄어쓰기가 2회 이상 되었을 경우에는 띄어쓰기 1회로 변경한다.\n",
    "df['contents'] = df['contents'].str.replace(\"(\\s{2,})\", \" \")\n",
    "\n",
    "# 날짜 형식을 2019년의 경우 제일 앞에 2019년을 붙여준다.\n",
    "df['dates'] = [\"2019년 \" + i if not bool(re.search('년', i)) else i for i in df['dates']]\n",
    "\n",
    "# 날짜 형식을 yyyy.mm.dd.로 변경한다.\n",
    "df['dates'] = [datetime.datetime.strptime(i, \"%Y년 %m월 %d일\").strftime(\"%Y.%m.%d.\") for i in df['dates']]"
   ]
  },
  {
   "cell_type": "code",
   "execution_count": 5,
   "metadata": {
    "ExecuteTime": {
     "end_time": "2019-06-20T11:19:30.241149Z",
     "start_time": "2019-06-20T11:19:29.814710Z"
    }
   },
   "outputs": [],
   "source": [
    "# 최종 결과를 저장한다.\n",
    "df.to_excel(\"twitter_crawling_result.xlsx\")"
   ]
  }
 ],
 "metadata": {
  "hide_input": false,
  "kernelspec": {
   "display_name": "Python 3",
   "language": "python",
   "name": "python3"
  },
  "language_info": {
   "codemirror_mode": {
    "name": "ipython",
    "version": 3
   },
   "file_extension": ".py",
   "mimetype": "text/x-python",
   "name": "python",
   "nbconvert_exporter": "python",
   "pygments_lexer": "ipython3",
   "version": "3.7.1"
  },
  "toc": {
   "base_numbering": 1,
   "nav_menu": {},
   "number_sections": true,
   "sideBar": true,
   "skip_h1_title": false,
   "title_cell": "Table of Contents",
   "title_sidebar": "Contents",
   "toc_cell": false,
   "toc_position": {},
   "toc_section_display": true,
   "toc_window_display": false
  },
  "varInspector": {
   "cols": {
    "lenName": 16,
    "lenType": 16,
    "lenVar": 40
   },
   "kernels_config": {
    "python": {
     "delete_cmd_postfix": "",
     "delete_cmd_prefix": "del ",
     "library": "var_list.py",
     "varRefreshCmd": "print(var_dic_list())"
    },
    "r": {
     "delete_cmd_postfix": ") ",
     "delete_cmd_prefix": "rm(",
     "library": "var_list.r",
     "varRefreshCmd": "cat(var_dic_list()) "
    }
   },
   "types_to_exclude": [
    "module",
    "function",
    "builtin_function_or_method",
    "instance",
    "_Feature"
   ],
   "window_display": false
  }
 },
 "nbformat": 4,
 "nbformat_minor": 2
}
