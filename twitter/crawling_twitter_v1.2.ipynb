{
 "cells": [
  {
   "cell_type": "code",
   "execution_count": 1,
   "metadata": {
    "ExecuteTime": {
     "end_time": "2019-06-17T02:28:12.043842Z",
     "start_time": "2019-06-17T02:28:11.806496Z"
    }
   },
   "outputs": [],
   "source": [
    "from bs4 import BeautifulSoup as bs\n",
    "import requests\n",
    "from selenium import webdriver\n",
    "from selenium.webdriver.support.ui import WebDriverWait\n",
    "from selenium.webdriver.common.by import By\n",
    "from selenium.webdriver.firefox.firefox_binary import FirefoxBinary\n",
    "\n",
    "import time\n",
    "import pandas as pd"
   ]
  },
  {
   "cell_type": "code",
   "execution_count": 2,
   "metadata": {
    "ExecuteTime": {
     "end_time": "2019-06-17T02:28:12.057699Z",
     "start_time": "2019-06-17T02:28:12.056056Z"
    }
   },
   "outputs": [],
   "source": [
    "# 검색어를 입력한다.\n",
    "query = [\"택시 타다\", \"모빌리티플랫폼\"]"
   ]
  },
  {
   "cell_type": "code",
   "execution_count": 3,
   "metadata": {
    "ExecuteTime": {
     "end_time": "2019-06-17T02:28:12.712441Z",
     "start_time": "2019-06-17T02:28:12.706997Z"
    }
   },
   "outputs": [],
   "source": [
    "# geckodriver의 위치를 결정한다.\n",
    "gecko_path = \"/home/caitech/Downloads/geckodriver\""
   ]
  },
  {
   "cell_type": "code",
   "execution_count": 4,
   "metadata": {
    "ExecuteTime": {
     "end_time": "2019-06-17T02:28:13.013080Z",
     "start_time": "2019-06-17T02:28:13.006722Z"
    }
   },
   "outputs": [],
   "source": [
    "# 이미지 로딩을 막는 프로파일을 설정한다\n",
    "firefox_profile = webdriver.FirefoxProfile()\n",
    "firefox_profile.set_preference('permissions.default.image', 2)\n",
    "firefox_profile.set_preference('dom.ipc.plugins.enabled.libflashplayer.so', 'false')"
   ]
  },
  {
   "cell_type": "code",
   "execution_count": 5,
   "metadata": {
    "ExecuteTime": {
     "end_time": "2019-06-17T02:28:16.148081Z",
     "start_time": "2019-06-17T02:28:14.578992Z"
    }
   },
   "outputs": [],
   "source": [
    "# 파이어폭스 브라우저를 켜고 창 크기를 최대화 한다.\n",
    "# driver = webdriver.Firefox(executable_path=gecko_path, firefox_profile=firefox_profile)\n",
    "# driver.maximize_window()"
   ]
  },
  {
   "cell_type": "code",
   "execution_count": null,
   "metadata": {
    "ExecuteTime": {
     "end_time": "2019-06-14T15:32:40.098201Z",
     "start_time": "2019-06-14T15:29:58.385397Z"
    }
   },
   "outputs": [],
   "source": [
    "for q in query:\n",
    "    driver = webdriver.Firefox(executable_path=gecko_path, firefox_profile=firefox_profile)\n",
    "    driver.maximize_window()\n",
    "    driver.get(\"https://twitter.com/search?f=tweets&vertical=default&q={}%20since%3A2018-06-01%20until%3A2019-06-01&src=typd&lang=ko\".format(q))\n",
    "\n",
    "    # 마지막 페이지까지 로드할 수 있도록 스크롤링을 진행한다.\n",
    "    while True:\n",
    "        elemsCount = driver.execute_script(\"return document.querySelectorAll('.stream-items > li.stream-item').length\")\n",
    "        driver.execute_script(\"window.scrollTo(0, document.body.scrollHeight);\")\n",
    "        time.sleep(0.5)\n",
    "        try:\n",
    "            WebDriverWait(driver, 20).until(\n",
    "                lambda x: x.find_element_by_xpath(\n",
    "                    \"//*[contains(@class,'stream-items')]/li[contains(@class,'stream-item')][\"+str(elemsCount+1)+\"]\"))\n",
    "        except:\n",
    "            print(\"마지막 페이지에 도달하였습니다.\")\n",
    "            break\n",
    "            \n",
    "    id_tags = driver.find_elements_by_css_selector(\"div.stream-item-header > a > span.username.u-dir.u-textTruncate > b\")\n",
    "    date_tags = driver.find_elements_by_css_selector(\"span._timestamp\")\n",
    "    content_tags = driver.find_elements_by_css_selector(\"p.TweetTextSize\")\n",
    "    href_tags = driver.find_element_by_css_selector(\"div.js-original-tweet\")\n",
    "    \n",
    "    ids = [item.text.strip() for item in id_tags]\n",
    "    dates = [item.text.strip() for item in date_tags]\n",
    "    contents = [item.text.strip() for item in content_tags]\n",
    "    hrefs = ['https://twitter.com' + item.get_attribute('data-permalink-path') for item in href_tags]\n",
    "    \n",
    "    df = pd.DataFrame(data={'ids': ids, 'dates': dates, 'contents': contents, 'links': hrefs, 'query': q})\n",
    "    df.to_excel(\"twitter_{}.xlsx\".format(q))"
   ]
  }
 ],
 "metadata": {
  "hide_input": false,
  "kernelspec": {
   "display_name": "Python 3",
   "language": "python",
   "name": "python3"
  },
  "language_info": {
   "codemirror_mode": {
    "name": "ipython",
    "version": 3
   },
   "file_extension": ".py",
   "mimetype": "text/x-python",
   "name": "python",
   "nbconvert_exporter": "python",
   "pygments_lexer": "ipython3",
   "version": "3.7.1"
  },
  "toc": {
   "base_numbering": 1,
   "nav_menu": {},
   "number_sections": true,
   "sideBar": true,
   "skip_h1_title": false,
   "title_cell": "Table of Contents",
   "title_sidebar": "Contents",
   "toc_cell": false,
   "toc_position": {},
   "toc_section_display": true,
   "toc_window_display": false
  },
  "varInspector": {
   "cols": {
    "lenName": 16,
    "lenType": 16,
    "lenVar": 40
   },
   "kernels_config": {
    "python": {
     "delete_cmd_postfix": "",
     "delete_cmd_prefix": "del ",
     "library": "var_list.py",
     "varRefreshCmd": "print(var_dic_list())"
    },
    "r": {
     "delete_cmd_postfix": ") ",
     "delete_cmd_prefix": "rm(",
     "library": "var_list.r",
     "varRefreshCmd": "cat(var_dic_list()) "
    }
   },
   "types_to_exclude": [
    "module",
    "function",
    "builtin_function_or_method",
    "instance",
    "_Feature"
   ],
   "window_display": false
  }
 },
 "nbformat": 4,
 "nbformat_minor": 2
}
